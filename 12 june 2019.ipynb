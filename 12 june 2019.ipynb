{
 "cells": [
  {
   "cell_type": "markdown",
   "metadata": {},
   "source": [
    "# Problem Solving and Programming\n",
    "#### Date 12 june 2019\n",
    "#### Day Objectives\n",
    "- String Slicing\n",
    "- Functions in Python\n",
    "- Basic Problems related to conditional statements using functions\n",
    "- Iteration in Python\n",
    "- Problem set for price\n",
    "- Python Data Structures-Lists,Tuples and Dictionaries\n",
    "    - Basic Operations on data structures\n",
    "    - Applying Data Structures to solve problems\n"
   ]
  },
  {
   "cell_type": "code",
   "execution_count": null,
   "metadata": {},
   "outputs": [],
   "source": []
  },
  {
   "cell_type": "markdown",
   "metadata": {},
   "source": [
    "### String Slicing"
   ]
  },
  {
   "cell_type": "code",
   "execution_count": 1,
   "metadata": {},
   "outputs": [
    {
     "data": {
      "text/plain": [
       "'nhy'"
      ]
     },
     "execution_count": 1,
     "metadata": {},
     "output_type": "execute_result"
    }
   ],
   "source": [
    "s1 = \"Python\"\n",
    "\n",
    "s1[0] # Accessing the first character in a string\n",
    "s1[1] # Accessing the second character in a string\n",
    "s1[len(s1)-1] # Accessing the last character in a string\n",
    "\n",
    "s1[-1] # Another way of accessing the last character\n",
    "\n",
    "s1[-2] #Accessing the penultimate character of a string\n",
    "\n",
    "s1[0:2] # Accessing the first two characters in a string\n",
    "\n",
    "s1[-2:] # Accessing the last two characters in a string\n",
    "\n",
    "s1[4:] # Accessing all characters 5th character to end of string\n",
    "\n",
    "s1[1:-1] # Accessing all characters except first and last character\n",
    "\n",
    "s1[len(s1)//2] # Accessing the middle character in a string\n",
    "\n",
    "s1[-1::-1] #Reverse of a string\n",
    "\n",
    "s1[-1:-3:-1] #Access last two characters in reverse order\n",
    "\n",
    "s1[len(s1)//2:len(s1)//2-2:-1] #Reverse the middle two characters in an even length string\n",
    "\n",
    "s1[::2] #Accessing alternate characters in a string\n",
    "# \"Python\" -> \"Pto\"\n",
    "\n",
    "s1[::-2] #Accessing alternate characters of a string in reverse \n",
    "\n",
    "\n"
   ]
  },
  {
   "cell_type": "code",
   "execution_count": null,
   "metadata": {},
   "outputs": [],
   "source": []
  },
  {
   "cell_type": "markdown",
   "metadata": {},
   "source": [
    "### Functions"
   ]
  },
  {
   "cell_type": "code",
   "execution_count": 2,
   "metadata": {},
   "outputs": [
    {
     "data": {
      "text/plain": [
       "'nohtyP'"
      ]
     },
     "execution_count": 2,
     "metadata": {},
     "output_type": "execute_result"
    }
   ],
   "source": [
    "#Function to reverse a string\n",
    "def reverseString(s):\n",
    "    return s[::-1]\n",
    "\n",
    "reverseString(\"Python\")"
   ]
  },
  {
   "cell_type": "code",
   "execution_count": null,
   "metadata": {},
   "outputs": [],
   "source": []
  },
  {
   "cell_type": "code",
   "execution_count": 3,
   "metadata": {},
   "outputs": [
    {
     "data": {
      "text/plain": [
       "False"
      ]
     },
     "execution_count": 3,
     "metadata": {},
     "output_type": "execute_result"
    }
   ],
   "source": [
    "#Function to check if a string is a Palindrome\n",
    "def palindrome(s):\n",
    "    if s == s[::-1]:\n",
    "        return True\n",
    "    else:\n",
    "        return False\n",
    "    \n",
    "palindrome(\"abc\")"
   ]
  },
  {
   "cell_type": "code",
   "execution_count": null,
   "metadata": {},
   "outputs": [],
   "source": []
  },
  {
   "cell_type": "code",
   "execution_count": 4,
   "metadata": {},
   "outputs": [
    {
     "data": {
      "text/plain": [
       "True"
      ]
     },
     "execution_count": 4,
     "metadata": {},
     "output_type": "execute_result"
    }
   ],
   "source": [
    "#Function to check if a given year is a leap year\n",
    "def isLeapyear(year):\n",
    "    if year % 400 == 0 or (year % 100 !=0 and year % 4 ==0):\n",
    "        return True\n",
    "    return False\n",
    "\n",
    "isLeapyear(2020)\n",
    "    "
   ]
  },
  {
   "cell_type": "code",
   "execution_count": null,
   "metadata": {},
   "outputs": [],
   "source": []
  },
  {
   "cell_type": "code",
   "execution_count": null,
   "metadata": {},
   "outputs": [],
   "source": []
  },
  {
   "cell_type": "code",
   "execution_count": 5,
   "metadata": {},
   "outputs": [
    {
     "data": {
      "text/plain": [
       "6"
      ]
     },
     "execution_count": 5,
     "metadata": {},
     "output_type": "execute_result"
    }
   ],
   "source": [
    "#Function to count the number of digits in a given number\n",
    "def countDigits(n):\n",
    "    return len(str(n))\n",
    "\n",
    "countDigits(134546)"
   ]
  },
  {
   "cell_type": "code",
   "execution_count": null,
   "metadata": {},
   "outputs": [],
   "source": []
  },
  {
   "cell_type": "code",
   "execution_count": 6,
   "metadata": {},
   "outputs": [
    {
     "data": {
      "text/plain": [
       "234"
      ]
     },
     "execution_count": 6,
     "metadata": {},
     "output_type": "execute_result"
    }
   ],
   "source": [
    "#Function to identify the greatest of  4 numbers\n",
    "def greatest4(n1,n2,n3,n4):\n",
    "    if n1>n2 and n1>n3 and n1>n4:\n",
    "        return n1\n",
    "    elif n2>n3 and n2>n4:\n",
    "        return n2\n",
    "    elif n3>n4:\n",
    "        return n3\n",
    "    return n4\n",
    "\n",
    "greatest4(1,234,123,34)"
   ]
  },
  {
   "cell_type": "code",
   "execution_count": null,
   "metadata": {},
   "outputs": [],
   "source": []
  },
  {
   "cell_type": "markdown",
   "metadata": {},
   "source": [
    "### Iteration\n",
    "- for\n",
    "- while\n",
    "\n",
    "###### For Loop in Python\n",
    "\n",
    ".[101,210].\n",
    "\n",
    "for number in range(lb,ub+1)\n",
    "    print number\n",
    "    \n",
    "o/p :-\n",
    "\n",
    "101\n",
    "102\n",
    ".\n",
    ".\n",
    ".\n",
    "210\n"
   ]
  },
  {
   "cell_type": "code",
   "execution_count": 7,
   "metadata": {},
   "outputs": [
    {
     "name": "stdout",
     "output_type": "stream",
     "text": [
      "1 2 3 4 5 6 7 8 9 10 11 12 13 14 15 16 17 18 19 20 21 22 23 24 25 26 27 28 29 30 \n",
      "1 2 3 4 5 6 7 8 9 10 \n"
     ]
    }
   ],
   "source": [
    "#Function to print n natural numbers\n",
    "\n",
    "def printNNaturalNumbers(n):\n",
    "    for counter in range(1,n+1):\n",
    "        print(counter,end=\" \")\n",
    "    print()\n",
    "    return\n",
    "\n",
    "printNNaturalNumbers(30)\n",
    "printNNaturalNumbers(10)"
   ]
  },
  {
   "cell_type": "code",
   "execution_count": null,
   "metadata": {},
   "outputs": [],
   "source": []
  },
  {
   "cell_type": "code",
   "execution_count": 8,
   "metadata": {},
   "outputs": [
    {
     "name": "stdout",
     "output_type": "stream",
     "text": [
      "1 2 3 4 5 6 7 8 9 "
     ]
    }
   ],
   "source": [
    "#Function to print N Natural numbers using a while loop\n",
    "\n",
    "def nNaturalNumbers(n):\n",
    "    counter = 1\n",
    "    while counter <=n:\n",
    "        print(counter,end=\" \")\n",
    "        counter=counter+1\n",
    "    return\n",
    "\n",
    "nNaturalNumbers(9)"
   ]
  },
  {
   "cell_type": "code",
   "execution_count": null,
   "metadata": {},
   "outputs": [],
   "source": []
  },
  {
   "cell_type": "code",
   "execution_count": 9,
   "metadata": {},
   "outputs": [
    {
     "name": "stdout",
     "output_type": "stream",
     "text": [
      "102 108 114 120 126 132 138 144 150 156 162 168 174 180 186 192 198 "
     ]
    }
   ],
   "source": [
    "# Function to print all numbers divisible by 6 and\n",
    "#and not a factor of 100 in a given range(lb,ub) inclusive\n",
    "\n",
    "def divisible6(lb, ub):\n",
    "    for i in range(lb, ub+1):\n",
    "        if i % 6 == 0 and 100 % i != 0:\n",
    "            print(i, end=\" \")\n",
    "    return\n",
    "\n",
    "divisible6(100, 200)\n"
   ]
  },
  {
   "cell_type": "code",
   "execution_count": null,
   "metadata": {},
   "outputs": [],
   "source": []
  },
  {
   "cell_type": "code",
   "execution_count": 10,
   "metadata": {},
   "outputs": [
    {
     "data": {
      "text/plain": [
       "8.0"
      ]
     },
     "execution_count": 10,
     "metadata": {},
     "output_type": "execute_result"
    }
   ],
   "source": [
    "#Function to find the average of cubes of all even numbers\n",
    "#in a given range(lb,ub) inclusive\n",
    "def avgCubesEven(lb,ub):\n",
    "    sum = 0\n",
    "    count = 0\n",
    "    for i in range(lb,ub+1):\n",
    "        if i % 2 == 0:\n",
    "            sum += i ** 3\n",
    "            count += 1\n",
    "    return sum/count\n",
    "avgCubesEven(1,3)"
   ]
  },
  {
   "cell_type": "code",
   "execution_count": null,
   "metadata": {},
   "outputs": [],
   "source": []
  },
  {
   "cell_type": "code",
   "execution_count": 5,
   "metadata": {},
   "outputs": [
    {
     "data": {
      "text/plain": [
       "6"
      ]
     },
     "execution_count": 5,
     "metadata": {},
     "output_type": "execute_result"
    }
   ],
   "source": [
    "#Function to generate the list of factors for a given numbers\n",
    "#12->1 2 3 4 6 12\n",
    "\n",
    "def factorsList(n):\n",
    "    sum = 0\n",
    "    for i in range(1, n//2+1):\n",
    "        if n % i == 0:\n",
    "            sum += i\n",
    "    return sum\n",
    "\n",
    "factorsList(6)\n",
    "\n",
    "    "
   ]
  },
  {
   "cell_type": "code",
   "execution_count": null,
   "metadata": {},
   "outputs": [],
   "source": []
  },
  {
   "cell_type": "code",
   "execution_count": 1,
   "metadata": {},
   "outputs": [
    {
     "data": {
      "text/plain": [
       "120"
      ]
     },
     "execution_count": 1,
     "metadata": {},
     "output_type": "execute_result"
    }
   ],
   "source": [
    "#Function to calculate the factorial of a given number\n",
    "def factorial(n):\n",
    "    fact = 1\n",
    "    for i in range(2,n+1):\n",
    "        fact *= i\n",
    "    return fact\n",
    "factorial(5)\n"
   ]
  },
  {
   "cell_type": "code",
   "execution_count": null,
   "metadata": {},
   "outputs": [],
   "source": []
  },
  {
   "cell_type": "code",
   "execution_count": 10,
   "metadata": {},
   "outputs": [
    {
     "data": {
      "text/plain": [
       "False"
      ]
     },
     "execution_count": 10,
     "metadata": {},
     "output_type": "execute_result"
    }
   ],
   "source": [
    "#Function to check if a given number is prime\n",
    "\n",
    "def isPrime(n):\n",
    "    flag = True\n",
    "    for i in range(2, n//2+1):\n",
    "        if n % i == 0:\n",
    "            flag = False\n",
    "            return flag\n",
    "    return flag\n",
    "\n",
    "isPrime(4)"
   ]
  },
  {
   "cell_type": "code",
   "execution_count": null,
   "metadata": {},
   "outputs": [],
   "source": []
  },
  {
   "cell_type": "code",
   "execution_count": 11,
   "metadata": {},
   "outputs": [
    {
     "data": {
      "text/plain": [
       "12.9"
      ]
     },
     "execution_count": 11,
     "metadata": {},
     "output_type": "execute_result"
    }
   ],
   "source": [
    "#Function to calculate  the average  of first N Prime numbers\n",
    "def avgNPrimes(n):\n",
    "    primeCount = 0\n",
    "    sum = 0\n",
    "    seqCount = 2\n",
    "    while(primeCount < n):\n",
    "        if isPrime(seqCount):\n",
    "            primeCount += 1\n",
    "            sum += seqCount\n",
    "            #print(seqCount)\n",
    "        seqCount += 1\n",
    "    return sum/n\n",
    "\n",
    "avgNPrimes(10)"
   ]
  },
  {
   "cell_type": "code",
   "execution_count": null,
   "metadata": {},
   "outputs": [],
   "source": []
  },
  {
   "cell_type": "markdown",
   "metadata": {},
   "source": [
    "#### Problem Statement\n",
    "Function to generate all perfect numbers in a given range\n",
    "\n",
    "Perfect Number-Sum of all its factors is equal to the number itself\n",
    "\n",
    "6 - 1,2,3\n",
    "\n",
    "lb,ub"
   ]
  },
  {
   "cell_type": "code",
   "execution_count": 6,
   "metadata": {},
   "outputs": [
    {
     "name": "stdout",
     "output_type": "stream",
     "text": [
      "6 28 496 8128 "
     ]
    }
   ],
   "source": [
    "\n",
    "def isPerfect(n):\n",
    "    if factorsList(n) == n:\n",
    "        return True\n",
    "    return False\n",
    "\n",
    "def generatePerfect(lb, ub):\n",
    "    for i in range(lb, ub+1):\n",
    "        if isPerfect(i):\n",
    "            print(i, end=\" \")\n",
    "    return\n",
    "\n",
    "generatePerfect(1, 10000)"
   ]
  },
  {
   "cell_type": "code",
   "execution_count": null,
   "metadata": {},
   "outputs": [],
   "source": []
  }
 ],
 "metadata": {
  "kernelspec": {
   "display_name": "Python 3",
   "language": "python",
   "name": "python3"
  },
  "language_info": {
   "codemirror_mode": {
    "name": "ipython",
    "version": 3
   },
   "file_extension": ".py",
   "mimetype": "text/x-python",
   "name": "python",
   "nbconvert_exporter": "python",
   "pygments_lexer": "ipython3",
   "version": "3.7.3"
  }
 },
 "nbformat": 4,
 "nbformat_minor": 2
}
