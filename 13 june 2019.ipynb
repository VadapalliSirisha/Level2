{
 "cells": [
  {
   "cell_type": "code",
   "execution_count": 1,
   "metadata": {},
   "outputs": [
    {
     "name": "stdout",
     "output_type": "stream",
     "text": [
      "500 504 508 512 516 520 524 "
     ]
    }
   ],
   "source": [
    "# Function to print the alternate values in a range in the same line\n",
    "#[500,550] -> 500 502 504 ....... 550\n",
    "#(500,550) -> 501 503 505 ....... 549\n",
    "#range(500,550) -> 500 501 502 ......549\n",
    "#All set based functions in Python have start value inclusive and end value exclusive\n",
    "\n",
    "def alternateValues(start, end):\n",
    "    for value in range(start,end+1, 4):\n",
    "        print(value, end=\" \")\n",
    "    return\n",
    "\n",
    "alternateValues(500, 525)"
   ]
  },
  {
   "cell_type": "code",
   "execution_count": 2,
   "metadata": {},
   "outputs": [
    {
     "name": "stdout",
     "output_type": "stream",
     "text": [
      "10 9 8 7 6 5 4 3 2 1 "
     ]
    }
   ],
   "source": [
    "#Function to print reverse of given range in the same line\n",
    "\n",
    "def reverseRange(start, end):\n",
    "    for value in range(end, start-1, -1):\n",
    "        print(value,end=\" \")\n",
    "    return\n",
    "\n",
    "reverseRange(1,10)\n"
   ]
  },
  {
   "cell_type": "code",
   "execution_count": 3,
   "metadata": {},
   "outputs": [
    {
     "name": "stdout",
     "output_type": "stream",
     "text": [
      "129 127 125 123 "
     ]
    }
   ],
   "source": [
    "#Function to print the odd numbers in reverse order in a range\n",
    "\n",
    "def reverseOdd(start, end):\n",
    "    for i in range(end, start-1, -1):\n",
    "        if i % 2 != 0:\n",
    "            print(i,end=\" \")\n",
    "    return\n",
    "\n",
    "reverseOdd(123, 130)\n"
   ]
  },
  {
   "cell_type": "code",
   "execution_count": 4,
   "metadata": {},
   "outputs": [
    {
     "data": {
      "text/plain": [
       "15150"
      ]
     },
     "execution_count": 4,
     "metadata": {},
     "output_type": "execute_result"
    }
   ],
   "source": [
    "#Function to calculate the sum of numbers in a range\n",
    "\n",
    "def sumRange(start, end):\n",
    "    sum = 0\n",
    "    for i in range(start,end+1):\n",
    "        sum = sum + i\n",
    "    return sum\n",
    "\n",
    "sumRange(100, 200)"
   ]
  },
  {
   "cell_type": "code",
   "execution_count": 5,
   "metadata": {},
   "outputs": [
    {
     "data": {
      "text/plain": [
       "3000.0"
      ]
     },
     "execution_count": 5,
     "metadata": {},
     "output_type": "execute_result"
    }
   ],
   "source": [
    "#Function to calculate the average of a given range\n",
    "#(1,5) -> 3\n",
    "\n",
    "def averageRange(start, end):\n",
    "    sum = 0\n",
    "    count = 0\n",
    "    for i in range(start,end+1):\n",
    "        sum = sum + i #Sum calculation\n",
    "        count = count + 1 # Counting number of values\n",
    "        #print(sum)\n",
    "       # print(count)\n",
    "    return sum/(end-start+1)\n",
    "\n",
    "averageRange(1000,5000)\n",
    "        "
   ]
  },
  {
   "cell_type": "code",
   "execution_count": 6,
   "metadata": {},
   "outputs": [
    {
     "name": "stdout",
     "output_type": "stream",
     "text": [
      "1920 1924 1928 1932 1936 1940 1944 1948 1952 1956 1960 1964 1968 1972 1976 1980 1984 1988 1992 1996 2000 2004 2008 2012 2016 "
     ]
    }
   ],
   "source": [
    "#Function to generate the leap years in a given time period\n",
    "#[2000, 2020] -> 2000 2004 2008 2012 2016 2020\n",
    "\n",
    "def isLeapYear(year):\n",
    "    if year % 400 == 0 or(year % 100 != 0 and year % 4 == 0):\n",
    "        return True\n",
    "    return False\n",
    "\n",
    "def generateLeapYears(startyear, endyear):\n",
    "    for year in range(startyear, endyear+1):\n",
    "        if isLeapYear(year):\n",
    "            print(year, end=\" \")\n",
    "    return\n",
    "\n",
    "generateLeapYears(1919,2019)"
   ]
  },
  {
   "cell_type": "code",
   "execution_count": 7,
   "metadata": {},
   "outputs": [
    {
     "data": {
      "text/plain": [
       "730"
      ]
     },
     "execution_count": 7,
     "metadata": {},
     "output_type": "execute_result"
    }
   ],
   "source": [
    "# Calculate number of days in a given time period using leapYear logic\n",
    "#For every year in the given time period,if the year is not a leap year -> add 365 to sum.If leap year,add 366 to sum\n",
    "\n",
    "def numberOfDays(startyear, endyear):\n",
    "    sum = 0\n",
    "    for year in range(startyear, endyear+1):\n",
    "        if isLeapYear(year):\n",
    "            sum = sum + 366\n",
    "        else:\n",
    "            sum = sum + 365\n",
    "    return sum\n",
    "#number of days in middle years of 2016 2019\n",
    "numberOfDays(2017, 2018)\n"
   ]
  },
  {
   "cell_type": "code",
   "execution_count": 8,
   "metadata": {},
   "outputs": [
    {
     "data": {
      "text/plain": [
       "1464"
      ]
     },
     "execution_count": 8,
     "metadata": {},
     "output_type": "execute_result"
    }
   ],
   "source": [
    "#Function to calculate number of hours for a given period in the format(month1, year1, month2, year2)\n",
    "#numberOfHours(11, 1975, 03,1999) -> 204504 or 205248\n",
    "#numberOfHours(5, 2019, 6, 2019) -> 1464\n",
    "#2, 2017, 6, 2019\n",
    "# [all days from feb 2016 to dec 2016,\n",
    "#. all days for years between 2016 and 2019,\n",
    "#   all days from jan to june 2019]\n",
    "#No of hours = 24 * No of days\n",
    "# 3 steps\n",
    "    #1.start month year to end of year - calculate no of days\n",
    "    #2.Calculate days for all years between start year and end year exclusive\n",
    "        # 2017, 2018 - 365 * no of years\n",
    "    #3.calculate days from jan to end month year\n",
    "\n",
    "#Excluding Feb\n",
    "#First six months - 1, 3, 4, 5, 6, 7\n",
    "                    #All odd months have 31 days\n",
    "#Last six months - 8, 9, 10,11, 12\n",
    "                    #All even months have 31 days\n",
    "                    #All odd months have 30 days\n",
    "# 31 days- (month <= 7 and month % 2 ! =0 and month ! = 2) || (month >= 8 and month)\n",
    "#                return 31\n",
    "#\n",
    "#            else\n",
    "#               return 30\n",
    "\n",
    "def numberOfDaysMonth(month,year):\n",
    "    if month == 2:\n",
    "        if isLeapYear(year):\n",
    "            return 29\n",
    "        return 28\n",
    "    elif(month <= 7 and month % 2!= 0) or (month >= 8 and month % 2 == 0):\n",
    "        return 31\n",
    "    else:\n",
    "        return 30\n",
    "\n",
    "def daysInStartYear(startmonth,startyear):\n",
    "    days = 0\n",
    "    for month in range(startmonth, 13):\n",
    "        days += numberOfDaysMonth(month,startyear)\n",
    "    return days\n",
    "\n",
    "def daysInEndtYear(endmonth,endyear):\n",
    "    days = 0\n",
    "    for month in range(1,endmonth+1):\n",
    "        days += numberOfDaysMonth(month, endyear)\n",
    "    return days\n",
    "\n",
    "def numberOfHours(startmonth,  startyear, endmonth, endyear):\n",
    "    days = 0\n",
    "    if startyear != endyear:\n",
    "        days += daysInStartyear(startmonth,startyear)\n",
    "        days += daysInEndyear(endmonth, endyear)\n",
    "        if endyear - startyear == 2:\n",
    "            days += numberOfDaysMonth(startyear+1,startyear+1)\n",
    "        elif endyear - startyear > 2:\n",
    "            days += numberOfDaysMonth(startyear+1,endyear-1)\n",
    "    else:\n",
    "        for month in range(startmonth,endmonth+1):\n",
    "            days += numberOfDaysMonth(month,startyear)\n",
    "    return 24 * days\n",
    "\n",
    "numberOfHours(6,2018,7,2018)\n"
   ]
  },
  {
   "cell_type": "code",
   "execution_count": null,
   "metadata": {},
   "outputs": [],
   "source": []
  }
 ],
 "metadata": {
  "kernelspec": {
   "display_name": "Python 3",
   "language": "python",
   "name": "python3"
  },
  "language_info": {
   "codemirror_mode": {
    "name": "ipython",
    "version": 3
   },
   "file_extension": ".py",
   "mimetype": "text/x-python",
   "name": "python",
   "nbconvert_exporter": "python",
   "pygments_lexer": "ipython3",
   "version": "3.7.3"
  }
 },
 "nbformat": 4,
 "nbformat_minor": 2
}
