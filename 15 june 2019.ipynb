{
 "cells": [
  {
   "cell_type": "markdown",
   "metadata": {},
   "source": [
    "### Tasks"
   ]
  },
  {
   "cell_type": "code",
   "execution_count": 2,
   "metadata": {},
   "outputs": [
    {
     "name": "stdout",
     "output_type": "stream",
     "text": [
      "2\n"
     ]
    }
   ],
   "source": [
    "# Factorial\n",
    "\n",
    "def factorial(n):\n",
    "    fact = 1\n",
    "    for i in range(2,n+1):\n",
    "        fact *= i\n",
    "    print(fact)\n",
    "factorial(2)\n"
   ]
  },
  {
   "cell_type": "code",
   "execution_count": 3,
   "metadata": {},
   "outputs": [
    {
     "name": "stdout",
     "output_type": "stream",
     "text": [
      "1 10 1\n",
      "10\n"
     ]
    }
   ],
   "source": [
    "# Count Divisors\n",
    "\n",
    "def countDivisors(i,j,k):\n",
    "    count =0\n",
    "    for n in range(i,j+1):\n",
    "        if n % k ==0:\n",
    "            count = count+1\n",
    "    print(count)\n",
    "    return\n",
    "\n",
    "s = input()\n",
    "\n",
    "s = s.split()\n",
    "\n",
    "i = int(s[0])\n",
    "\n",
    "j = int(s[1])\n",
    "\n",
    "k = int(s[2])\n",
    "\n",
    "countDivisors(i,j,k)\n"
   ]
  },
  {
   "cell_type": "code",
   "execution_count": 6,
   "metadata": {},
   "outputs": [
    {
     "data": {
      "text/plain": [
       "97"
      ]
     },
     "execution_count": 6,
     "metadata": {},
     "output_type": "execute_result"
    }
   ],
   "source": [
    "ord('a')"
   ]
  },
  {
   "cell_type": "code",
   "execution_count": 13,
   "metadata": {},
   "outputs": [
    {
     "name": "stdout",
     "output_type": "stream",
     "text": [
      "sirisha\n",
      "SIRISHA\n"
     ]
    }
   ],
   "source": [
    "# Toggle String\n",
    "\n",
    "s = input()\n",
    "def swapcase(s):\n",
    "    print(s.swapcase())\n",
    "swapcase(s)\n"
   ]
  },
  {
   "cell_type": "code",
   "execution_count": 11,
   "metadata": {},
   "outputs": [
    {
     "name": "stdout",
     "output_type": "stream",
     "text": [
      "123321\n",
      "yes\n"
     ]
    }
   ],
   "source": [
    "#Palindrome\n",
    "\n",
    "s = input()\n",
    "def palindrome(s):\n",
    "    if s == s[::-1]:\n",
    "        print(\"yes\")\n",
    "    else:\n",
    "        print(\"no\")\n",
    "palindrome(s)\n"
   ]
  },
  {
   "cell_type": "code",
   "execution_count": null,
   "metadata": {},
   "outputs": [],
   "source": []
  }
 ],
 "metadata": {
  "kernelspec": {
   "display_name": "Python 3",
   "language": "python",
   "name": "python3"
  },
  "language_info": {
   "codemirror_mode": {
    "name": "ipython",
    "version": 3
   },
   "file_extension": ".py",
   "mimetype": "text/x-python",
   "name": "python",
   "nbconvert_exporter": "python",
   "pygments_lexer": "ipython3",
   "version": "3.7.3"
  }
 },
 "nbformat": 4,
 "nbformat_minor": 2
}
