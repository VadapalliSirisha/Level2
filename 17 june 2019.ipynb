{
 "cells": [
  {
   "cell_type": "markdown",
   "metadata": {},
   "source": [
    "#### Tasks"
   ]
  },
  {
   "cell_type": "code",
   "execution_count": 30,
   "metadata": {},
   "outputs": [
    {
     "name": "stdout",
     "output_type": "stream",
     "text": [
      "9\n",
      "2 3 5 7 "
     ]
    }
   ],
   "source": [
    "# Prime Number\n",
    "\n",
    "def isprime(N):\n",
    "    count = 0\n",
    "    for i in range(1,N+1):\n",
    "        if i>1:\n",
    "            for j in range(2,i//2+1):\n",
    "                if i%j == 0:\n",
    "                    count = count+1\n",
    "                    break\n",
    "            else:\n",
    "                print(i,end=\" \")\n",
    "N= int(input())\n",
    "isprime(N)"
   ]
  },
  {
   "cell_type": "code",
   "execution_count": null,
   "metadata": {},
   "outputs": [],
   "source": []
  },
  {
   "cell_type": "code",
   "execution_count": 22,
   "metadata": {},
   "outputs": [
    {
     "data": {
      "text/plain": [
       "'a b c'"
      ]
     },
     "execution_count": 22,
     "metadata": {},
     "output_type": "execute_result"
    }
   ],
   "source": [
    "# Function to Toggle String characters\n",
    "\n",
    "s = \"abc\"\n",
    "\n",
    "s.islower() # Check the case of a character\n",
    "s.isupper()\n",
    "\n",
    "s.lower() # Convert a character to lowercase\n",
    "s.upper() # Convert a character to upper case\n",
    "\n",
    "s.split()\n",
    "list(s)\n",
    "#s.split(\"\")\n",
    "\n",
    "\n",
    "s = list(s)\n",
    "\"\".join(s)"
   ]
  },
  {
   "cell_type": "code",
   "execution_count": null,
   "metadata": {},
   "outputs": [],
   "source": []
  },
  {
   "cell_type": "code",
   "execution_count": 18,
   "metadata": {},
   "outputs": [
    {
     "data": {
      "text/plain": [
       "'aBC'"
      ]
     },
     "execution_count": 18,
     "metadata": {},
     "output_type": "execute_result"
    }
   ],
   "source": [
    "# Function to Toggle String characters\n",
    "\n",
    "def toggleString(s):\n",
    "    # Convert the string into a list of characters\n",
    "    # s = list(s)\n",
    "    t = \"\"#[]\n",
    "    for c in s:\n",
    "        if c.islower():\n",
    "            t +=c.upper() #t.append(c.upper())\n",
    "        else:\n",
    "            t +=c.lower() #t.append(c.lower())\n",
    "    return  t #\"\".join(t)\n",
    "\n",
    "toggleString(\"Abc\")\n",
    "        \n",
    "        "
   ]
  },
  {
   "cell_type": "code",
   "execution_count": null,
   "metadata": {},
   "outputs": [],
   "source": []
  },
  {
   "cell_type": "markdown",
   "metadata": {},
   "source": [
    "#### Problem: Duration\n",
    "**Input**: Start time, end time (HH MM)<br>\n",
    "        HH - {00,01,02,03, .. 23}<br>\n",
    "        MM - {00,01,02,03, .. 59}<br>\n",
    "        HH MM - {00 00,23 59}\n",
    "\n",
    "**Output**: time difference in HH MM"
   ]
  },
  {
   "cell_type": "code",
   "execution_count": 24,
   "metadata": {},
   "outputs": [
    {
     "name": "stdout",
     "output_type": "stream",
     "text": [
      "5 41\n"
     ]
    }
   ],
   "source": [
    "# Calculate the time differnce as total number of minutes\n",
    "# Convert the total minutes into HH MM\n",
    "#s = \"1 44 2 14\"\n",
    "s = \" 2 42 8 23\"\n",
    "\n",
    "def minuteDifference(s):\n",
    "    s = s.split()\n",
    "    sh = int(s[0])\n",
    "    sm = int(s[1])\n",
    "    eh = int(s[2])\n",
    "    em = int(s[3])\n",
    "    startminutes = (sh * 60) + sm\n",
    "    endminutes = (eh * 60) + em\n",
    "    return endminutes - startminutes\n",
    "\n",
    "def outputTimeFormat(minutes):\n",
    "    # Convert minutes to HH MM\n",
    "    hh = minutes // 60\n",
    "    mm = minutes % 60\n",
    "    print(hh,mm)\n",
    "    return\n",
    "\n",
    "minutes = minuteDifference(s)\n",
    "outputTimeFormat(minutes)"
   ]
  },
  {
   "cell_type": "code",
   "execution_count": null,
   "metadata": {},
   "outputs": [],
   "source": []
  },
  {
   "cell_type": "markdown",
   "metadata": {},
   "source": [
    "### Problem: Play with Numbers\n",
    "\n",
    "line 1: array size(n), no of queries(q)<br>\n",
    "line 2: array elements<br>\n",
    "next q lines : query - sub array of the original array<br>\n",
    "\n",
    "5 3<br>\n",
    "1 2 3 4 5<br>\n",
    "1 2<br>\n",
    "0 5<br>\n"
   ]
  },
  {
   "cell_type": "code",
   "execution_count": null,
   "metadata": {},
   "outputs": [],
   "source": [
    "\n",
    "n=input().split()\n",
    "n[0],n[1]=int(n[0]),int(n[1])\n",
    "\n",
    "# Read array elements\n",
    "a=input().split()\n",
    "\n",
    "sum=[] # Intialize cumulative sum array\n",
    "\n",
    "# Cumulative Sum\n",
    "for i in range(0,n[0]):\n",
    "    if i==0:\n",
    "        sum.append(int(a[i]))\n",
    "    else:\n",
    "        sum.append(int(sum[i-1])+int(a[i])) #first element\n",
    "                   \n",
    "del a\n",
    "\n",
    "                   \n",
    "# Read each query and calculate the average\n",
    "for k in range(0,n[1]):\n",
    "    inq=input().split()\n",
    "    i=int(inq[0])\n",
    "    j=int(inq[1])\n",
    "    if i > 1:\n",
    "        print((sum[j-1]-sum[i-2])//(j-i+1))\n",
    "    else:\n",
    "        print((sum[j-1]//j-i+1))\n",
    "                   \n",
    "                   \n"
   ]
  },
  {
   "cell_type": "code",
   "execution_count": 2,
   "metadata": {},
   "outputs": [
    {
     "name": "stdout",
     "output_type": "stream",
     "text": [
      "sirishavadapalli98\n",
      "2 16\n"
     ]
    }
   ],
   "source": [
    "#Digits and character Count\n",
    "\n",
    "def countingofdigits(s):\n",
    "    count=0\n",
    "    for i in s:\n",
    "        if i.isdigit():\n",
    "            count+=1\n",
    "    return count\n",
    "def countofalpha(s):\n",
    "    count=0\n",
    "    for i in s:\n",
    "        if i.isalpha():\n",
    "            count+=1\n",
    "    return count\n",
    "s=input()\n",
    "print(countingofdigits(s),countofalpha(s))"
   ]
  },
  {
   "cell_type": "code",
   "execution_count": null,
   "metadata": {},
   "outputs": [],
   "source": []
  },
  {
   "cell_type": "code",
   "execution_count": 8,
   "metadata": {},
   "outputs": [
    {
     "data": {
      "text/plain": [
       "6"
      ]
     },
     "execution_count": 8,
     "metadata": {},
     "output_type": "execute_result"
    }
   ],
   "source": [
    "#Highest remainder\n",
    "\n",
    "def remainder(n):\n",
    "    ls=[]\n",
    "    res=[]\n",
    "    for i in range(n,1,-1):\n",
    "        a=n%i\n",
    "        ls.append(a)\n",
    "        res.append(i)\n",
    "        \n",
    "    return res[max(ls)]\n",
    "remainder(10)"
   ]
  },
  {
   "cell_type": "code",
   "execution_count": null,
   "metadata": {},
   "outputs": [],
   "source": []
  },
  {
   "cell_type": "code",
   "execution_count": 4,
   "metadata": {},
   "outputs": [
    {
     "name": "stdout",
     "output_type": "stream",
     "text": [
      "5\n",
      "2\n",
      "10\n",
      "no\n",
      "45\n",
      "no\n"
     ]
    }
   ],
   "source": [
    "# Prime factors\n",
    "\n",
    "def factors(n):\n",
    "    count=0\n",
    "    for i in range(1,n):\n",
    "        if n%i==0:\n",
    "            if isprime(1):\n",
    "                count=count+1\n",
    "    return count\n",
    "def isprime(n):\n",
    "    if n==1:\n",
    "        return False\n",
    "    for i in range(2,n):\n",
    "        if n%i==0:\n",
    "            return False\n",
    "    return True\n",
    "def noofprimefactors(n):\n",
    "    count=0\n",
    "    for i in range(1,n):\n",
    "        if n%i==0:\n",
    "            if isprime(1):\n",
    "                count+=1\n",
    "    return count\n",
    "p=int(input())\n",
    "q=int(input())\n",
    "for i in range(0,q):\n",
    "    a=int(input())\n",
    "    if noofprimefactors(a)==p:\n",
    "        print(\"yes\")\n",
    "    else:\n",
    "        print(\"no\")\n",
    "        "
   ]
  },
  {
   "cell_type": "code",
   "execution_count": null,
   "metadata": {},
   "outputs": [],
   "source": []
  }
 ],
 "metadata": {
  "kernelspec": {
   "display_name": "Python 3",
   "language": "python",
   "name": "python3"
  },
  "language_info": {
   "codemirror_mode": {
    "name": "ipython",
    "version": 3
   },
   "file_extension": ".py",
   "mimetype": "text/x-python",
   "name": "python",
   "nbconvert_exporter": "python",
   "pygments_lexer": "ipython3",
   "version": "3.7.3"
  }
 },
 "nbformat": 4,
 "nbformat_minor": 2
}
