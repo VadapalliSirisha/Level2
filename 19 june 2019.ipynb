{
 "cells": [
  {
   "cell_type": "code",
   "execution_count": 7,
   "metadata": {},
   "outputs": [
    {
     "name": "stdout",
     "output_type": "stream",
     "text": [
      "2\n",
      "sumit mitsu\n",
      "YES\n",
      "siri iris\n",
      "YES\n"
     ]
    }
   ],
   "source": [
    "#Two Strings\n",
    "\n",
    "def TwoStrings(n):\n",
    "    for i in range(1,n+1):\n",
    "        s=input()\n",
    "        s=s.split()\n",
    "        s1=s[0]\n",
    "        s2=s[1]\n",
    "        if (sorted(s1)==sorted(s2)):\n",
    "            print(\"YES\")\n",
    "        else:\n",
    "            print(\"NO\")\n",
    "n=int(input())            \n",
    "TwoStrings(n)\n"
   ]
  },
  {
   "cell_type": "code",
   "execution_count": null,
   "metadata": {},
   "outputs": [],
   "source": []
  },
  {
   "cell_type": "code",
   "execution_count": 5,
   "metadata": {},
   "outputs": [
    {
     "name": "stdout",
     "output_type": "stream",
     "text": [
      "aba\n",
      "4\n"
     ]
    }
   ],
   "source": [
    "# Char sum\n",
    "\n",
    "name = input()\n",
    "def charsum(name):\n",
    "    sum=0\n",
    "    for i in name:\n",
    "        s=ord(i)-96\n",
    "        sum=sum+s\n",
    "        \n",
    "    print(sum)\n",
    "charsum(name)\n"
   ]
  },
  {
   "cell_type": "code",
   "execution_count": null,
   "metadata": {},
   "outputs": [],
   "source": []
  },
  {
   "cell_type": "code",
   "execution_count": 6,
   "metadata": {},
   "outputs": [
    {
     "name": "stdout",
     "output_type": "stream",
     "text": [
      "1\n",
      "cde\n",
      "abc\n",
      "4\n"
     ]
    }
   ],
   "source": [
    "# Anagrams\n",
    "\n",
    "def anagram(a,b):\n",
    "    s1=[0]*26\n",
    "    s2=[0]*26\n",
    "    for i in range(0,len(a)):\n",
    "        s1[ord(a[i])-97]=s1[ord(a[i])-97]+1\n",
    "    for i in range(0,len(b)):\n",
    "        s2[ord(b[i])-97]=s2[ord(a[i])-97]+1\n",
    "    c=0\n",
    "    for i in range(26):\n",
    "        c=c+abs(s1[i]-s2[i])\n",
    "    print(c)\n",
    "n=int(input())\n",
    "for i in range(0,n):\n",
    "    a=input()\n",
    "    b=input()\n",
    "    anagram(a,b)\n"
   ]
  },
  {
   "cell_type": "code",
   "execution_count": null,
   "metadata": {},
   "outputs": [],
   "source": []
  },
  {
   "cell_type": "code",
   "execution_count": 1,
   "metadata": {},
   "outputs": [
    {
     "name": "stdout",
     "output_type": "stream",
     "text": [
      "Hello Kirti\n"
     ]
    }
   ],
   "source": [
    "# Hello\n",
    "\n",
    "print(\"Hello Kirti\")"
   ]
  },
  {
   "cell_type": "code",
   "execution_count": null,
   "metadata": {},
   "outputs": [],
   "source": []
  }
 ],
 "metadata": {
  "kernelspec": {
   "display_name": "Python 3",
   "language": "python",
   "name": "python3"
  },
  "language_info": {
   "codemirror_mode": {
    "name": "ipython",
    "version": 3
   },
   "file_extension": ".py",
   "mimetype": "text/x-python",
   "name": "python",
   "nbconvert_exporter": "python",
   "pygments_lexer": "ipython3",
   "version": "3.7.3"
  }
 },
 "nbformat": 4,
 "nbformat_minor": 2
}
