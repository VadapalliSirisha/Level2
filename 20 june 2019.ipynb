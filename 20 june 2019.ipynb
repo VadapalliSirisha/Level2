{
 "cells": [
  {
   "cell_type": "markdown",
   "metadata": {},
   "source": [
    "### Day Objectives\n",
    "\n",
    "- Regular Expressions\n",
    "    - Constructing Regular Expressions for various use cases\n",
    "    - Regular Expressions Module and related in Python\n",
    "    -Improving the contacts application with name and phone number validation using regular expressions\n",
    "- File Handling\n",
    "    - Text Files\n",
    "    - Upgrading the Contacts Application to store contact information in a text file"
   ]
  },
  {
   "cell_type": "markdown",
   "metadata": {},
   "source": [
    "#### Regular Expressions\n",
    "- Pattern Matching\n",
    "- Symbolic Notation of a pattern\n",
    "    - Pattern : Format which repeats\n",
    "    - Pattern(RE) - represents The set of all values matches that pattern\n",
    "- [0-9] -> Any digit\n",
    "\n",
    "- [a-z] -> Any lower case alphabet\n",
    "\n",
    "- [2468] -> All single digit multiples of 2\n",
    "\n",
    "- [0-9]{1}$ -> Only single digit numbers \n",
    "\n",
    "- [0-9]{3}$ -> Only three digit numbers\n",
    "\n",
    "- [0-9]*0$ -> All multiples of 10\n",
    "\n",
    "- [([0-9]*[0-5]$)] OR ^[1-9][0-9]*[05]$  OR ^[5]$ -> All multiples of 5\n",
    "\n",
    "- [1-9][0-9]{9}$   -> All 10 digit numbers\n",
    "\n",
    "- [w][o]r[d] OR (word) -> Searching for a word\n",
    "\n",
    "- [6-9][0-9]{9}$ OR ^[0][6-9][0-9]{9}$ OR ^[+][9][1][6-9][0-9]{9}$  -> Validating Phone number(India)(start with 9876 followed by 9 digits)\n",
    "\n",
    "-   ^[0-9a-z][0-9a-z_.]{4,13}[0-9a-z][@][a-z0-9]{3,18}[.][a-z]{2,4}$  -> Email Validation(username@domain.extension)\n",
    "\n",
    "- username\n",
    "         - Length of username : [6,15]\n",
    "         - No special characters other than _ .\n",
    "         - Should not begin and end with _ .\n",
    "         - Character Set : all digits and lower case alphabet (^[0-9a-z][0-9a-z_.]{4,13}[0-9a-z]$)\n",
    "- domain\n",
    "         - Length of domain : [3,18]\n",
    "         - No special characters\n",
    "         - Character Set : all digits and lower case alphabet\n",
    "- extension\n",
    "         - Length of extension : [2,4]\n",
    "         - No special characters\n",
    "         - Character Set : lower case alphabet\n",
    "- ^[a]...[z]$ -> Any string of length 5 that starts with 'a' and ends with 'z'\n",
    "-  ^[a].*[z]$ -> Any string of any length that starts with "
   ]
  },
  {
   "cell_type": "code",
   "execution_count": null,
   "metadata": {},
   "outputs": [],
   "source": []
  },
  {
   "cell_type": "code",
   "execution_count": 19,
   "metadata": {},
   "outputs": [
    {
     "data": {
      "text/plain": [
       "True"
      ]
     },
     "execution_count": 19,
     "metadata": {},
     "output_type": "execute_result"
    }
   ],
   "source": [
    "# Function to validate a phone number \n",
    "\n",
    "import re\n",
    "\n",
    "def phonenumbervalidator(number):\n",
    "    pattern = '[6-9][0-9]{9}$|^[0][6-9][0-9]{9}$|^[+][9][1][6-9][0-9]{9}$'\n",
    "    if re.match(pattern,str(number)):\n",
    "        return True\n",
    "    return False\n",
    "phonenumbervalidator(9876543210)\n",
    "\n",
    "def emailvalidator(email):\n",
    "    pattern=\"^[0-9a-z][0-9a-z_.]{4,13}[0-9a-z][@][a-z0-9]{3,18}[.][a-z]{2,4}$\"\n",
    "    if re.match(pattern,email):\n",
    "        return True\n",
    "    return False\n",
    "\n",
    "emailvalidator(\"re_aws@gmail.com\")"
   ]
  },
  {
   "cell_type": "code",
   "execution_count": 22,
   "metadata": {},
   "outputs": [
    {
     "name": "stdout",
     "output_type": "stream",
     "text": [
      "name1 already exists\n"
     ]
    },
    {
     "data": {
      "text/plain": [
       "{'name1': [7032898124, 'name1_123@gmail.com'],\n",
       " 'name2': [9876543210, 'name2_123@gmail.com'],\n",
       " 'name3': [9000707232, 'name3_123@gmail.com']}"
      ]
     },
     "execution_count": 22,
     "metadata": {},
     "output_type": "execute_result"
    }
   ],
   "source": [
    "contacts = {\"name1\":[7032898124,'name1_123@gmail.com'],\"name2\":[9876543210,'name2_123@gmail.com'],\"name3\":[9000707232,'name3_123@gmail.com']}\n",
    "\n",
    "def addContact(name,phone,email):\n",
    "    # Verify that the contact doesnot already exist\n",
    "    if name in contacts:\n",
    "        print(name,\"already exists\")\n",
    "    else:\n",
    "        if not phonenumbervalidator(phone):\n",
    "            print(\"invalid phone number\")\n",
    "            return\n",
    "        if not emailvalidator(email):\n",
    "            print(\"invalid email\")\n",
    "            return\n",
    "        newcontact=[]\n",
    "        newcontact.append(phone)\n",
    "        newcontact.append(email)\n",
    "        contacts[name]=newcontact\n",
    "        print(name,\"added successfully\")\n",
    "    return\n",
    "\n",
    "addContact(\"name1\",7032898124,\"name1@domain.ext\")\n",
    "\n",
    "contacts\n"
   ]
  },
  {
   "cell_type": "code",
   "execution_count": null,
   "metadata": {},
   "outputs": [],
   "source": []
  },
  {
   "cell_type": "code",
   "execution_count": 58,
   "metadata": {},
   "outputs": [
    {
     "name": "stdout",
     "output_type": "stream",
     "text": [
      "name3\n",
      "phone: 9000707232\n",
      "Email: name3_@gmail.com\n"
     ]
    }
   ],
   "source": [
    "def searchContacts(name):\n",
    "    if name in contacts:\n",
    "        print(name)\n",
    "        print(\"phone:\",contacts[name][0])\n",
    "        print(\"Email:\",contacts[name][1])\n",
    "    else:\n",
    "        print(\"%s does not exist\" % name)\n",
    "    return\n",
    "\n",
    "searchContacts(\"name3\")"
   ]
  },
  {
   "cell_type": "code",
   "execution_count": null,
   "metadata": {},
   "outputs": [],
   "source": []
  },
  {
   "cell_type": "code",
   "execution_count": 23,
   "metadata": {},
   "outputs": [
    {
     "name": "stdout",
     "output_type": "stream",
     "text": [
      "1 contacts added successfully\n"
     ]
    },
    {
     "data": {
      "text/plain": [
       "{'name1': [7032898124, 'name1_123@gmail.com'],\n",
       " 'name2': [9876543210, 'name2_123@gmail.com'],\n",
       " 'name3': [9000707232, 'name3_123@gmail.com'],\n",
       " 'name4': [7995255283, 'name4_123@gmail.com']}"
      ]
     },
     "execution_count": 23,
     "metadata": {},
     "output_type": "execute_result"
    }
   ],
   "source": [
    "# New contacts is given as a dictionary\n",
    "# Merge new contacts with existing contacts\n",
    "def importContacts(newContacts):\n",
    "    contacts.update(newContacts)\n",
    "    print(len(newContacts.keys()),\"contacts added successfully\")\n",
    "    return\n",
    "\n",
    "newContacts = {\"name4\":[7995255283,'name4_123@gmail.com']}\n",
    "\n",
    "importContacts(newContacts)\n",
    "contacts\n"
   ]
  },
  {
   "cell_type": "code",
   "execution_count": null,
   "metadata": {},
   "outputs": [],
   "source": []
  },
  {
   "cell_type": "code",
   "execution_count": 70,
   "metadata": {},
   "outputs": [
    {
     "name": "stdout",
     "output_type": "stream",
     "text": [
      "name1 \n",
      " phone: 7032898124 \n",
      " email: name1@domain.ext\n",
      "name2 \n",
      " phone: 9876543210 \n",
      " email: siri@gmail.com\n",
      "name3 \n",
      " phone: 9000707232 \n",
      " email: name3_@gmail.com\n",
      "name4 \n",
      " phone: 7995255283 \n",
      " email: name4_@gmail.com\n"
     ]
    }
   ],
   "source": [
    "# Function to list all contacts\n",
    "\n",
    "def listallcontacts():\n",
    "    for contact,info in contacts.items():\n",
    "        print(contact,\"\\n\",\"phone:\",info[0],\"\\n\",\"email:\",info[1])\n",
    "    return\n",
    "\n",
    "listallcontacts()"
   ]
  },
  {
   "cell_type": "code",
   "execution_count": null,
   "metadata": {},
   "outputs": [],
   "source": []
  },
  {
   "cell_type": "code",
   "execution_count": null,
   "metadata": {},
   "outputs": [],
   "source": []
  },
  {
   "cell_type": "code",
   "execution_count": null,
   "metadata": {},
   "outputs": [],
   "source": []
  },
  {
   "cell_type": "markdown",
   "metadata": {},
   "source": [
    "#### File Handling in Python\n",
    "\n",
    "- File - Document containing information residing on the perminent storage<br>\n",
    "\n",
    "- Types- Text,PDF,CSV etc<br>\n",
    "\n",
    "- File I/O - Channelling I/O data to files<br>\n",
    "\n",
    "- Default I/O channels - Keyboard/Screen<br>\n",
    "\n",
    "- Change I/O channel to files for Reading and Writing<br>\n",
    "\n",
    "- Read a file - Input from file<br>\n",
    "- Write to a file - Output to a file<br>\n",
    "\n",
    "- Read / write file - open(filename,mode)<br>\n",
    "\n",
    "\n",
    "\n",
    "\n",
    "\n",
    "\n"
   ]
  },
  {
   "cell_type": "code",
   "execution_count": 28,
   "metadata": {},
   "outputs": [
    {
     "name": "stdout",
     "output_type": "stream",
     "text": [
      "text\n"
     ]
    },
    {
     "data": {
      "text/plain": [
       "'text'"
      ]
     },
     "execution_count": 28,
     "metadata": {},
     "output_type": "execute_result"
    }
   ],
   "source": [
    "s = input()\n",
    "s"
   ]
  },
  {
   "cell_type": "code",
   "execution_count": 17,
   "metadata": {},
   "outputs": [
    {
     "name": "stdout",
     "output_type": "stream",
     "text": [
      "Line1\n",
      "Line2\n",
      "Line3Line1\n",
      "Line2\n",
      "Line3\n"
     ]
    }
   ],
   "source": [
    "# Function to read a file\n",
    "\n",
    "def readFile(filename):\n",
    "    f = open(filename,'r')\n",
    "    filedata = f.read()\n",
    "    f.close()\n",
    "    return filedata\n",
    "\n",
    "filename = 'Data Files/data.txt'\n",
    "filedata = readFile(filename)\n",
    "#for line in filedata.split('\\n'):\n",
    "#    print(line)\n",
    "    \n",
    "def printFileDataLines(filename):\n",
    "    with open(filename,'r') as f:\n",
    "        for line in f:\n",
    "            print(line,end=\"\")\n",
    "    return\n",
    "\n",
    "printFileDataLines(filename)\n",
    "print(readFile(filename))"
   ]
  },
  {
   "cell_type": "code",
   "execution_count": null,
   "metadata": {},
   "outputs": [],
   "source": []
  },
  {
   "cell_type": "code",
   "execution_count": 18,
   "metadata": {},
   "outputs": [],
   "source": [
    "# Function to write data into a file\n",
    "\n",
    "def writeintoFile(filename,filedata):\n",
    "    with open(filename,'w') as f:\n",
    "        f.write(filedata)\n",
    "    return\n",
    "\n",
    "filename = 'Data Files/data.txt'\n",
    "\n",
    "writeintoFile(filename,\"new data\\n\")"
   ]
  },
  {
   "cell_type": "code",
   "execution_count": null,
   "metadata": {},
   "outputs": [],
   "source": []
  },
  {
   "cell_type": "code",
   "execution_count": 13,
   "metadata": {},
   "outputs": [],
   "source": [
    "# Function to append data to a file\n",
    "\n",
    "def appenddatatoFile(filename,filedata):\n",
    "    with open(filename,'a') as f:\n",
    "        for line in filedata:\n",
    "            f.write('\\n'+line)\n",
    "    return\n",
    "\n",
    "filedata = [\"Line4\",\"Line5\"]\n",
    "appenddatatoFile(filename,filedata)"
   ]
  },
  {
   "cell_type": "code",
   "execution_count": null,
   "metadata": {},
   "outputs": [],
   "source": []
  }
 ],
 "metadata": {
  "kernelspec": {
   "display_name": "Python 3",
   "language": "python",
   "name": "python3"
  },
  "language_info": {
   "codemirror_mode": {
    "name": "ipython",
    "version": 3
   },
   "file_extension": ".py",
   "mimetype": "text/x-python",
   "name": "python",
   "nbconvert_exporter": "python",
   "pygments_lexer": "ipython3",
   "version": "3.7.3"
  }
 },
 "nbformat": 4,
 "nbformat_minor": 2
}
