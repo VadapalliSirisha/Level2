{
 "cells": [
  {
   "cell_type": "markdown",
   "metadata": {},
   "source": [
    "#### Date : 22 june 2019\n",
    "#### Day Objectives\n",
    "- File Handling\n",
    "    - Basic File DataProcessing\n",
    "        - Accessing and Modifying File Data\n",
    "    - Character Count\n",
    "    - Line Count\n",
    "    - File Size\n",
    "    - Word Count\n",
    "    - Unique Word Count \n"
   ]
  },
  {
   "cell_type": "code",
   "execution_count": 8,
   "metadata": {},
   "outputs": [
    {
     "name": "stdout",
     "output_type": "stream",
     "text": [
      "Data in Line 1\n",
      "Data in Line 2\n",
      "Data in Line 3\n",
      "sirisha 5\n"
     ]
    }
   ],
   "source": [
    "# Read a File - File should exist(Read Mode)\n",
    "# Write to a File - Existing(append) or New File(Write mode)\n",
    "\n",
    "# Function to read entire file data into a single string\n",
    "# Each \n",
    "def readFile(filePath):\n",
    "    with open(filePath,'r') as f:\n",
    "        filedata = f.read() # Reads the entire file data into a string\n",
    "    return filedata\n",
    "\n",
    "filePath = 'Data Files/data.txt'\n",
    "print(readFile(filePath))\n"
   ]
  },
  {
   "cell_type": "code",
   "execution_count": null,
   "metadata": {},
   "outputs": [],
   "source": []
  },
  {
   "cell_type": "code",
   "execution_count": 9,
   "metadata": {},
   "outputs": [
    {
     "name": "stdout",
     "output_type": "stream",
     "text": [
      "50\n"
     ]
    }
   ],
   "source": [
    "# Character Count\n",
    "\n",
    "def charCount(filePath):\n",
    "    filePath = 'Data Files/data.txt'\n",
    "    count=0\n",
    "    with open(filePath,'r') as f:\n",
    "        fh=f.read()\n",
    "        for i in fh:\n",
    "            if i.isdigit()!=True:\n",
    "                count=count+1\n",
    "        print(count)\n",
    "    \n",
    "charCount(filePath)\n"
   ]
  },
  {
   "cell_type": "code",
   "execution_count": null,
   "metadata": {},
   "outputs": [],
   "source": []
  },
  {
   "cell_type": "code",
   "execution_count": 16,
   "metadata": {},
   "outputs": [
    {
     "name": "stdout",
     "output_type": "stream",
     "text": [
      "3\n"
     ]
    }
   ],
   "source": [
    "# Line Count\n",
    "\n",
    "def lineCount(filePath):\n",
    "    filePath = 'Data Files/data.txt'\n",
    "    count=0\n",
    "    with open(filePath,'r') as f:\n",
    "        for i in f:\n",
    "            count=count+1\n",
    "        print(count)\n",
    "        \n",
    "lineCount(filePath)\n"
   ]
  },
  {
   "cell_type": "code",
   "execution_count": null,
   "metadata": {},
   "outputs": [],
   "source": []
  },
  {
   "cell_type": "code",
   "execution_count": 10,
   "metadata": {},
   "outputs": [
    {
     "name": "stdout",
     "output_type": "stream",
     "text": [
      "14\n"
     ]
    }
   ],
   "source": [
    "# Word Count\n",
    "\n",
    "def wordCount(filePath):\n",
    "    filePath = 'Data Files/data.txt'\n",
    "    with open(filePath,'r') as f:\n",
    "        filedata=f.read()\n",
    "        print(len(filedata.split()))\n",
    "        \n",
    "wordCount(filePath)\n",
    "        "
   ]
  },
  {
   "cell_type": "code",
   "execution_count": null,
   "metadata": {},
   "outputs": [],
   "source": []
  },
  {
   "cell_type": "code",
   "execution_count": 11,
   "metadata": {},
   "outputs": [
    {
     "name": "stdout",
     "output_type": "stream",
     "text": [
      "54\n"
     ]
    }
   ],
   "source": [
    "# File Size\n",
    "\n",
    "import os\n",
    "print(os.path.getsize(\"Data Files/data.txt\"))\n",
    "\n"
   ]
  },
  {
   "cell_type": "code",
   "execution_count": null,
   "metadata": {},
   "outputs": [],
   "source": []
  },
  {
   "cell_type": "code",
   "execution_count": 12,
   "metadata": {},
   "outputs": [
    {
     "data": {
      "text/plain": [
       "['Data in Line 1', 'Data in Line 2', 'Data in Line 3', 'sirisha 5']"
      ]
     },
     "execution_count": 12,
     "metadata": {},
     "output_type": "execute_result"
    }
   ],
   "source": [
    "def readfileintoList(filePath):\n",
    "    with open(filePath,'r') as f:\n",
    "        filedata = f.read()\n",
    "        lines = filedata.split('\\n')\n",
    "    return lines\n",
    "\n",
    "filePath = 'Data Files/data.txt'\n",
    "readfileintoList(filePath)"
   ]
  },
  {
   "cell_type": "code",
   "execution_count": null,
   "metadata": {},
   "outputs": [],
   "source": []
  },
  {
   "cell_type": "code",
   "execution_count": 13,
   "metadata": {},
   "outputs": [
    {
     "data": {
      "text/plain": [
       "54"
      ]
     },
     "execution_count": 13,
     "metadata": {},
     "output_type": "execute_result"
    }
   ],
   "source": [
    "# Function to count the number of characters\n",
    "\n",
    "def charcountFile(filePath):\n",
    "    count = len(readFile(filePath))\n",
    "    return count\n",
    "charcountFile(filePath)"
   ]
  },
  {
   "cell_type": "code",
   "execution_count": null,
   "metadata": {},
   "outputs": [],
   "source": []
  },
  {
   "cell_type": "code",
   "execution_count": 14,
   "metadata": {},
   "outputs": [
    {
     "data": {
      "text/plain": [
       "4"
      ]
     },
     "execution_count": 14,
     "metadata": {},
     "output_type": "execute_result"
    }
   ],
   "source": [
    "# count the number of Words\n",
    "\n",
    "import re\n",
    "\n",
    "def wordcountFile(filePath):\n",
    "    pattern = '[\\n]'\n",
    "    filedata = readFile(filePath)\n",
    "    count = len(re.split(pattern,filedata))\n",
    "    return count\n",
    "\n",
    "wordcountFile(filePath)"
   ]
  },
  {
   "cell_type": "code",
   "execution_count": null,
   "metadata": {},
   "outputs": [],
   "source": []
  },
  {
   "cell_type": "code",
   "execution_count": 15,
   "metadata": {},
   "outputs": [
    {
     "data": {
      "text/plain": [
       "[1, 2, 3]"
      ]
     },
     "execution_count": 15,
     "metadata": {},
     "output_type": "execute_result"
    }
   ],
   "source": [
    "# Function to get unique elements in a list\n",
    "\n",
    "# [1,2,3,3,2,1] -> [1,2,3]\n",
    "# Create a empty unique list [1,2,3]\n",
    "\n",
    "def uniqueData(li):\n",
    "    # Create an empty unique list\n",
    "    unique = []\n",
    "    \n",
    "    # For every element in the main list,check if it exists in the unique list\n",
    "    # If it does not exist,add it to unique list\n",
    "    # else if it already exists,move on to the next element\n",
    "    \n",
    "    for element in li:\n",
    "        if element not in unique:\n",
    "            unique.append(element)\n",
    "    return unique\n",
    "\n",
    "li = [1,2,3,3,2,1]\n",
    "\n",
    "uniqueData(li)\n"
   ]
  },
  {
   "cell_type": "code",
   "execution_count": null,
   "metadata": {},
   "outputs": [],
   "source": []
  },
  {
   "cell_type": "code",
   "execution_count": 16,
   "metadata": {},
   "outputs": [
    {
     "name": "stdout",
     "output_type": "stream",
     "text": [
      "Data : 3\n",
      "in : 3\n",
      "Line : 3\n",
      "1 : 1\n",
      "2 : 1\n",
      "3 : 1\n",
      "sirisha : 1\n",
      "5 : 1\n"
     ]
    }
   ],
   "source": [
    "# Frequency of Unique Word\n",
    "\n",
    "def uniquewordCount(filePath): \n",
    "    c = 0\n",
    "    unique =[]\n",
    "    with open(filePath,'r') as f:\n",
    "        filedata = f.read().split()\n",
    "        for i in filedata:\n",
    "            k=i\n",
    "            if k not in unique:\n",
    "                unique.append(k)\n",
    "                for j in filedata:\n",
    "                    if k==j:\n",
    "                        c=c+1\n",
    "                print(k,':',c)\n",
    "                c = 0\n",
    "    return\n",
    "uniquewordCount(filePath)\n"
   ]
  },
  {
   "cell_type": "code",
   "execution_count": null,
   "metadata": {},
   "outputs": [],
   "source": []
  },
  {
   "cell_type": "code",
   "execution_count": 17,
   "metadata": {},
   "outputs": [
    {
     "name": "stdout",
     "output_type": "stream",
     "text": [
      "['Data', 'in', 'Line', '1', '2', '3', 'sirisha', '5']\n",
      "8\n"
     ]
    }
   ],
   "source": [
    "# Unique Word Count\n",
    "\n",
    "def uniquewordCount(filePath):\n",
    "    unique = []\n",
    "    with open(filePath,'r') as f:\n",
    "        fh = f.read().split()\n",
    "        for i in fh:\n",
    "            if i not in unique:\n",
    "                unique.append(i)\n",
    "        print(unique)\n",
    "        print(len(unique))\n",
    "            \n",
    "        return\n",
    "uniquewordCount(\"Data Files/data.txt\")\n",
    "            \n",
    "\n"
   ]
  },
  {
   "cell_type": "code",
   "execution_count": null,
   "metadata": {},
   "outputs": [],
   "source": []
  },
  {
   "cell_type": "code",
   "execution_count": null,
   "metadata": {},
   "outputs": [],
   "source": []
  }
 ],
 "metadata": {
  "kernelspec": {
   "display_name": "Python 3",
   "language": "python",
   "name": "python3"
  },
  "language_info": {
   "codemirror_mode": {
    "name": "ipython",
    "version": 3
   },
   "file_extension": ".py",
   "mimetype": "text/x-python",
   "name": "python",
   "nbconvert_exporter": "python",
   "pygments_lexer": "ipython3",
   "version": "3.7.3"
  }
 },
 "nbformat": 4,
 "nbformat_minor": 2
}
