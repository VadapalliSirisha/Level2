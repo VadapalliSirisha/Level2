{
 "cells": [
  {
   "cell_type": "code",
   "execution_count": 1,
   "metadata": {},
   "outputs": [
    {
     "name": "stdout",
     "output_type": "stream",
     "text": [
      "Data : 3\n",
      "in : 3\n",
      "Line : 3\n",
      "1 : 1\n",
      "2 : 1\n",
      "3 : 1\n",
      "sirisha : 1\n",
      "5 : 1\n"
     ]
    }
   ],
   "source": [
    "# Frequency of Unique Word\n",
    "\n",
    "def uniquewordCount(filePath): \n",
    "    c = 0\n",
    "    unique =[]\n",
    "    with open(filePath,'r') as f:\n",
    "        filedata = f.read().split()\n",
    "        for i in filedata:\n",
    "            k=i\n",
    "            if k not in unique:\n",
    "                unique.append(k)\n",
    "                for j in filedata:\n",
    "                    if k==j:\n",
    "                        c=c+1\n",
    "                print(k,':',c)\n",
    "                c = 0\n",
    "    return\n",
    "uniquewordCount(\"Data Files/data.txt\")\n"
   ]
  },
  {
   "cell_type": "code",
   "execution_count": null,
   "metadata": {},
   "outputs": [],
   "source": []
  },
  {
   "cell_type": "code",
   "execution_count": 2,
   "metadata": {},
   "outputs": [
    {
     "name": "stdout",
     "output_type": "stream",
     "text": [
      "['Data', 'in', 'Line', '1', '2', '3', 'sirisha', '5']\n",
      "8\n"
     ]
    }
   ],
   "source": [
    "# Unique Word Count\n",
    "\n",
    "def uniquewordCount(filePath):\n",
    "    unique = []\n",
    "    with open(filePath,'r') as f:\n",
    "        fh = f.read().split()\n",
    "        for i in fh:\n",
    "            if i not in unique:\n",
    "                unique.append(i)\n",
    "        print(unique)\n",
    "        print(len(unique))\n",
    "            \n",
    "        return\n",
    "uniquewordCount(\"Data Files/data.txt\")\n",
    "            "
   ]
  },
  {
   "cell_type": "code",
   "execution_count": null,
   "metadata": {},
   "outputs": [],
   "source": []
  },
  {
   "cell_type": "code",
   "execution_count": null,
   "metadata": {},
   "outputs": [],
   "source": []
  }
 ],
 "metadata": {
  "kernelspec": {
   "display_name": "Python 3",
   "language": "python",
   "name": "python3"
  },
  "language_info": {
   "codemirror_mode": {
    "name": "ipython",
    "version": 3
   },
   "file_extension": ".py",
   "mimetype": "text/x-python",
   "name": "python",
   "nbconvert_exporter": "python",
   "pygments_lexer": "ipython3",
   "version": "3.7.3"
  }
 },
 "nbformat": 4,
 "nbformat_minor": 2
}
