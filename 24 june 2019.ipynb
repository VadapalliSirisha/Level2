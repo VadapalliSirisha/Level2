{
 "cells": [
  {
   "cell_type": "code",
   "execution_count": null,
   "metadata": {},
   "outputs": [],
   "source": [
    "# Frequency of UNIQUE WORD\n",
    "\n",
    "def freqdistributionWords1(filePath):\n",
    "    # Dictionary to be used to \n",
    "        # key -> unique words\n",
    "        # Values -> count of unique words\n",
    "        \n",
    "    # Two lists\n",
    "        # All words list - \n",
    "        # Unique words list\n",
    "        \n",
    "    # Set\n",
    "    allwords = wordfromFile(filePath)\n",
    "    uniquewords = uniqueData(filePath)\n",
    "    \n",
    "    for word in uniquewords:\n",
    "        count = allwords.count(word)\n",
    "        print(word,':',count)\n",
    "        \n",
    "    return\n",
    "\n",
    "def freqdistributionWords2(filePath):\n",
    "    allwords = wordfromFile(filePath)\n",
    "    wordFrequency = {}\n",
    "    \n",
    "    for word in allwords:\n",
    "        if word not in wordFrequency.keys():\n",
    "            wordFrequency[word] = 1\n",
    "        else:\n",
    "            wordFrequency[word] += 1\n",
    "    return wordFrequency\n",
    "    \n",
    "freqdistributionWords2(\"Data Files/data.txt\")\n",
    "\n"
   ]
  },
  {
   "cell_type": "code",
   "execution_count": null,
   "metadata": {},
   "outputs": [],
   "source": []
  },
  {
   "cell_type": "code",
   "execution_count": null,
   "metadata": {},
   "outputs": [],
   "source": [
    "\n",
    "import re\n",
    "\n",
    "def wordcountFile(filepath):\n",
    "    pattern = '[ \\n]'\n",
    "    filedata = readFile(filepath)\n",
    "    count = len(re.split(pattern, filedata))\n",
    "    return count\n",
    "def wordfromFile(filepath):\n",
    "    pattern = '[ \\n./]'\n",
    "    filedata = readFile(filepath)\n",
    "    allWordsList = re.split(pattern, filedata)\n",
    "    return allWordsList\n",
    "\n",
    "\n",
    "wordfromFile('Data Files/data.txt')"
   ]
  },
  {
   "cell_type": "code",
   "execution_count": null,
   "metadata": {},
   "outputs": [],
   "source": []
  },
  {
   "cell_type": "code",
   "execution_count": 2,
   "metadata": {},
   "outputs": [
    {
     "data": {
      "text/plain": [
       "[1, 2, 3]"
      ]
     },
     "execution_count": 2,
     "metadata": {},
     "output_type": "execute_result"
    }
   ],
   "source": [
    "# Function to get unique elements in a list\n",
    "\n",
    "# [1,2,3,3,2,1] -> [1,2,3]\n",
    "# Create a empty unique list [1,2,3]\n",
    "\n",
    "def uniqueData(filePath):\n",
    "    # Create an empty unique list\n",
    "    unique = []\n",
    "    \n",
    "    # For every element in the main list,check if it exists in the unique list\n",
    "    # If it does not exist,add it to unique list\n",
    "    # else if it already exists,move on to the next element\n",
    "    \n",
    "    for element in li:\n",
    "        if element not in unique:\n",
    "            unique.append(element)\n",
    "    return unique\n",
    "\n",
    "li = [1,2,3,3,2,1]\n",
    "\n",
    "uniqueData(li)\n"
   ]
  },
  {
   "cell_type": "code",
   "execution_count": null,
   "metadata": {},
   "outputs": [],
   "source": []
  },
  {
   "cell_type": "code",
   "execution_count": null,
   "metadata": {},
   "outputs": [],
   "source": [
    "# Contacts Application\n",
    "    # Add,Search,List,Modify delete contacts\n",
    "    \n",
    "# Find and Replace Application\n",
    "    # Count the total number of occurences of a word\n",
    "    # If word is existing \n",
    "    # Replace all occurences of a word with another word\n",
    "    \n",
    "# Marks Analysis Application\n",
    "    # Generate marks file for n students\n",
    "    # Input : Marks text file - each line contains marks of one student\n",
    "    # Generates a report with the following information\n",
    "        # Class Average\n",
    "        # % of students passed\n",
    "        # % of students failed\n",
    "        # % of students with  distinction\n",
    "        # Highest Mark Frequency\n",
    "        # Lowest Mark Frequency\n",
    "        \n",
    "        "
   ]
  },
  {
   "cell_type": "code",
   "execution_count": null,
   "metadata": {},
   "outputs": [],
   "source": []
  },
  {
   "cell_type": "code",
   "execution_count": null,
   "metadata": {},
   "outputs": [],
   "source": [
    "# Function to generate marks data for n students\n",
    "\n",
    "from random import randint\n",
    "\n",
    "def generateMarks(n,lb,ub):\n",
    "    with open('Data Files/marks.txt','w') as f:\n",
    "        for i in range(0,n): \n",
    "            r = randint(lb,ub)\n",
    "            f.write(str(r)+'\\n')\n",
    "    return\n",
    "\n",
    "generateMarks(100,0,100)\n",
    "\n"
   ]
  },
  {
   "cell_type": "code",
   "execution_count": null,
   "metadata": {},
   "outputs": [],
   "source": []
  }
 ],
 "metadata": {
  "kernelspec": {
   "display_name": "Python 3",
   "language": "python",
   "name": "python3"
  },
  "language_info": {
   "codemirror_mode": {
    "name": "ipython",
    "version": 3
   },
   "file_extension": ".py",
   "mimetype": "text/x-python",
   "name": "python",
   "nbconvert_exporter": "python",
   "pygments_lexer": "ipython3",
   "version": "3.7.3"
  }
 },
 "nbformat": 4,
 "nbformat_minor": 2
}
