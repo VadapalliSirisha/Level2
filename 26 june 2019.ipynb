{
 "cells": [
  {
   "cell_type": "code",
   "execution_count": 1,
   "metadata": {},
   "outputs": [
    {
     "name": "stdout",
     "output_type": "stream",
     "text": [
      "Pass Percentage  0.6799999999999999\n"
     ]
    }
   ],
   "source": [
    "# MARKS ANALYSIS APPLICATION\n",
    "\n",
    "# % OF STUDENTS PASSED\n",
    "\n",
    "def PassPercentage(filepath):\n",
    "    \n",
    "    \n",
    "    with open(filepath,\"r\") as f:\n",
    "        s=f.read()\n",
    "        count=0\n",
    "        n=10000\n",
    "        for i in s.split():\n",
    "            if int(i) > 35:\n",
    "            \n",
    "                count=count+1\n",
    "        print (\"Pass Percentage \",(count/n)*100)      \n",
    "filepath=\"Data Files/marks.txt\"  \n",
    "PassPercentage(filepath)"
   ]
  },
  {
   "cell_type": "code",
   "execution_count": null,
   "metadata": {},
   "outputs": [],
   "source": []
  },
  {
   "cell_type": "code",
   "execution_count": 3,
   "metadata": {},
   "outputs": [
    {
     "name": "stdout",
     "output_type": "stream",
     "text": [
      "Fail Percentage  0.32\n"
     ]
    }
   ],
   "source": [
    "# % OF STUDENTS FAILED\n",
    "def FailPercentage(filepath):\n",
    "    with open(filepath,\"r\") as data:\n",
    "        s=data.read()\n",
    "        count=0\n",
    "        n=10000\n",
    "        for i in s.split():\n",
    "            if int(i)<=35:\n",
    "                count+=1\n",
    "        print (\"Fail Percentage \",(count/n)*100)\n",
    "filepath=\"Data Files/marks.txt\"\n",
    "FailPercentage(filepath)\n"
   ]
  },
  {
   "cell_type": "code",
   "execution_count": null,
   "metadata": {},
   "outputs": [],
   "source": []
  },
  {
   "cell_type": "code",
   "execution_count": 5,
   "metadata": {},
   "outputs": [
    {
     "name": "stdout",
     "output_type": "stream",
     "text": [
      "Distintion of  0.31\n"
     ]
    }
   ],
   "source": [
    "# OF STUDENTS WITH DISTINCTION\n",
    "\n",
    "def DistintionPercentage(filepath):\n",
    "    with open(filepath,\"r\") as data:\n",
    "        s=data.read()\n",
    "        count=0\n",
    "        n=10000\n",
    "        for i in s.split():\n",
    "            if int(i)>=70:\n",
    "                count+=1\n",
    "        print (\"Distintion of \",(count/n)*100)\n",
    "filepath=\"Data Files/marks.txt\"\n",
    "DistintionPercentage(filepath)"
   ]
  },
  {
   "cell_type": "code",
   "execution_count": null,
   "metadata": {},
   "outputs": [],
   "source": []
  },
  {
   "cell_type": "code",
   "execution_count": 9,
   "metadata": {},
   "outputs": [
    {
     "name": "stdout",
     "output_type": "stream",
     "text": [
      "Highest Mark Frequency:  99 2\n",
      "Lowest Mark Frequency:  0 1\n"
     ]
    }
   ],
   "source": [
    "# HIGHEST MARKS FREQUENCY\n",
    "\n",
    "def highestNLowestFrequency(filepath):\n",
    "    marks = [] # empty list\n",
    "    with open(filepath,'r') as data:\n",
    "        for student in data:\n",
    "            #student = int(student)\n",
    "            marks.append(int(student))\n",
    "    print(\"Highest Mark Frequency: \",max(marks),marks.count(max(marks)))\n",
    "    print(\"Lowest Mark Frequency: \",min(marks),marks.count(min(marks)))\n",
    "\n",
    "filepath = \"Data Files/marks.txt\"  \n",
    "\n",
    "highestNLowestFrequency(filepath)"
   ]
  },
  {
   "cell_type": "code",
   "execution_count": null,
   "metadata": {},
   "outputs": [],
   "source": []
  },
  {
   "cell_type": "code",
   "execution_count": 14,
   "metadata": {},
   "outputs": [
    {
     "name": "stdout",
     "output_type": "stream",
     "text": [
      "sirisha\n",
      "sirisha\n"
     ]
    },
    {
     "ename": "NameError",
     "evalue": "name 'replaceallOccurencesofWord' is not defined",
     "output_type": "error",
     "traceback": [
      "\u001b[1;31m---------------------------------------------------------------------------\u001b[0m",
      "\u001b[1;31mNameError\u001b[0m                                 Traceback (most recent call last)",
      "\u001b[1;32m<ipython-input-14-911f4f3beef5>\u001b[0m in \u001b[0;36m<module>\u001b[1;34m\u001b[0m\n\u001b[0;32m     35\u001b[0m \u001b[0mnew_word\u001b[0m \u001b[1;33m=\u001b[0m \u001b[0minput\u001b[0m\u001b[1;33m(\u001b[0m\u001b[1;33m)\u001b[0m\u001b[1;33m\u001b[0m\u001b[1;33m\u001b[0m\u001b[0m\n\u001b[0;32m     36\u001b[0m \u001b[1;33m\u001b[0m\u001b[0m\n\u001b[1;32m---> 37\u001b[1;33m \u001b[0mreplaceallOccurencesofWord\u001b[0m\u001b[1;33m(\u001b[0m\u001b[0mfilepath\u001b[0m\u001b[1;33m,\u001b[0m \u001b[0mold_word\u001b[0m\u001b[1;33m,\u001b[0m \u001b[0mnew_word\u001b[0m\u001b[1;33m)\u001b[0m\u001b[1;33m\u001b[0m\u001b[1;33m\u001b[0m\u001b[0m\n\u001b[0m",
      "\u001b[1;31mNameError\u001b[0m: name 'replaceallOccurencesofWord' is not defined"
     ]
    }
   ],
   "source": [
    "# FIND AND REPLACE APPLICATIONS\n",
    "\n",
    "# Replace all occurrences of a word with another word \n",
    "\n",
    "def replaceallOccurrencesofWord(filepath, old_word, new_word):\n",
    "    import re\n",
    "    s2 = \"\"\n",
    "    with open(filepath,'r') as data:\n",
    "        for line in data:\n",
    "            line = line.strip()\n",
    "            pattern = \"(\"+old_word+\")\"\n",
    "            if(re.findall(pattern,line)):\n",
    "                words = line.split()\n",
    "                for word in range(len(words)):\n",
    "                    if(words[word] == old_word):\n",
    "                        words[word] = new_word\n",
    "                    else:\n",
    "                        words[word]= words[word]\n",
    "                for k in words:\n",
    "                    s2 = s2 + k + \" \"\n",
    "                s2 = s2 + \"\\n\"\n",
    "            else:\n",
    "                s2 = s2 + line + \"\\n\"\n",
    "                continue\n",
    "    with open(filepath,'w') as info:\n",
    "        info.write(s2)\n",
    "                    \n",
    "                    \n",
    "            \n",
    "\n",
    "filepath = \"Data Files/data.txt\"\n",
    "\n",
    "old_word = input()\n",
    "\n",
    "new_word = input()\n",
    "\n",
    "replaceallOccurencesofWord(filepath, old_word, new_word)\n"
   ]
  },
  {
   "cell_type": "code",
   "execution_count": null,
   "metadata": {},
   "outputs": [],
   "source": []
  }
 ],
 "metadata": {
  "kernelspec": {
   "display_name": "Python 3",
   "language": "python",
   "name": "python3"
  },
  "language_info": {
   "codemirror_mode": {
    "name": "ipython",
    "version": 3
   },
   "file_extension": ".py",
   "mimetype": "text/x-python",
   "name": "python",
   "nbconvert_exporter": "python",
   "pygments_lexer": "ipython3",
   "version": "3.7.3"
  }
 },
 "nbformat": 4,
 "nbformat_minor": 2
}
