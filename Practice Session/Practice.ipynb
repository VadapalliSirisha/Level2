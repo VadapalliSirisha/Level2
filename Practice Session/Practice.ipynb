{
 "cells": [
  {
   "cell_type": "code",
   "execution_count": null,
   "metadata": {},
   "outputs": [],
   "source": [
    "### Perfect Number\n",
    "\n",
    "def factors(d):\n",
    "    sum=0\n",
    "    for i in range(1,num):\n",
    "        if num%i==0:\n",
    "            #print(i,end=\" \")\n",
    "            sum=sum+i\n",
    "    #print(sum)\n",
    "    if num==sum:\n",
    "        print(\"YES\")\n",
    "    else:\n",
    "        print(\"NO\")\n",
    "num=int(input())\n",
    "\n",
    "for i in range(0,num):\n",
    "    d=int(input())\n",
    "    factors(d)"
   ]
  },
  {
   "cell_type": "code",
   "execution_count": null,
   "metadata": {},
   "outputs": [],
   "source": []
  }
 ],
 "metadata": {
  "kernelspec": {
   "display_name": "Python 3",
   "language": "python",
   "name": "python3"
  },
  "language_info": {
   "codemirror_mode": {
    "name": "ipython",
    "version": 3
   },
   "file_extension": ".py",
   "mimetype": "text/x-python",
   "name": "python",
   "nbconvert_exporter": "python",
   "pygments_lexer": "ipython3",
   "version": "3.7.3"
  }
 },
 "nbformat": 4,
 "nbformat_minor": 2
}
